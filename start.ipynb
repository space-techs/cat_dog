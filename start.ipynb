{
 "cells": [
  {
   "cell_type": "code",
   "execution_count": 3,
   "metadata": {},
   "outputs": [
    {
     "name": "stdout",
     "output_type": "stream",
     "text": [
      "/bin/bash: server.log: Permission denied\n",
      "2021-11-27 17:36:18.705815: I external/org_tensorflow/tensorflow/cc/saved_model/loader.cc:194] Running initialization op on SavedModel bundle at path: /home/space/Desktop/space/cat_dog/cat_dog_classifier/1\n",
      "2021-11-27 17:36:18.736872: I external/org_tensorflow/tensorflow/cc/saved_model/loader.cc:283] SavedModel load for tags { serve }; Status: success: OK. Took 221079 microseconds.\n",
      "2021-11-27 17:36:18.738933: I tensorflow_serving/servables/tensorflow/saved_model_warmup_util.cc:59] No warmup data file found at /home/space/Desktop/space/cat_dog/cat_dog_classifier/1/assets.extra/tf_serving_warmup_requests\n",
      "2021-11-27 17:36:18.740220: I tensorflow_serving/core/loader_harness.cc:87] Successfully loaded servable version {name: cat_dog_classifier version: 1}\n",
      "2021-11-27 17:36:18.741059: I tensorflow_serving/model_servers/server_core.cc:486] Finished adding/updating models\n",
      "2021-11-27 17:36:18.741107: I tensorflow_serving/model_servers/server.cc:133] Using InsecureServerCredentials\n",
      "2021-11-27 17:36:18.741123: I tensorflow_serving/model_servers/server.cc:383] Profiler service is enabled\n",
      "2021-11-27 17:36:18.742092: I tensorflow_serving/model_servers/server.cc:409] Running gRPC ModelServer at 0.0.0.0:8500 ...\n",
      "2021-11-27 17:36:18.742501: I tensorflow_serving/model_servers/server.cc:430] Exporting HTTP/REST API at:localhost:8502 ...\n",
      "[evhttp_server.cc : 245] NET_LOG: Entering the event loop ...\n"
     ]
    }
   ],
   "source": [
    "!nohup tensorflow_model_server \\\n",
    "  --rest_api_port=8502 \\\n",
    "  --model_name=cat_dog_classifier \\\n",
    "  --model_base_path=\"/home/space/Desktop/space/cat_dog/cat_dog_classifier/\" >server.log 2>&1\n",
    "\n",
    "!tail server.log"
   ]
  }
 ],
 "metadata": {
  "interpreter": {
   "hash": "916dbcbb3f70747c44a77c7bcd40155683ae19c65e1c03b4aa3499c5328201f1"
  },
  "kernelspec": {
   "display_name": "Python 3.8.10 64-bit",
   "language": "python",
   "name": "python3"
  },
  "language_info": {
   "codemirror_mode": {
    "name": "ipython",
    "version": 3
   },
   "file_extension": ".py",
   "mimetype": "text/x-python",
   "name": "python",
   "nbconvert_exporter": "python",
   "pygments_lexer": "ipython3",
   "version": "3.8.10"
  },
  "orig_nbformat": 4
 },
 "nbformat": 4,
 "nbformat_minor": 2
}
