{
 "cells": [
  {
   "cell_type": "code",
   "execution_count": 1,
   "metadata": {},
   "outputs": [
    {
     "name": "stdout",
     "output_type": "stream",
     "text": [
      "{\n",
      "    \"predictions\": [[0.999984]\n",
      "    ]\n",
      "}\n",
      "The model predicted that image is  dog\n"
     ]
    }
   ],
   "source": [
    "import json\n",
    "import requests\n",
    "import nsvision as nv\n",
    "label = ['cat', 'dog']\n",
    "image = nv.imread('./test/goat1.jpeg',resize=(150,150),normalize=True)\n",
    "image = nv.expand_dims(image,axis=0)\n",
    "data = json.dumps({ \n",
    "    \"instances\": image.tolist()\n",
    "})\n",
    "headers = {\"content-type\": \"application/json\"}\n",
    "response = requests.post('http://localhost:8502/v1/models/cat_dog_classifier:predict', data=data, headers=headers)\n",
    "pred=response.json()['predictions'][0][0]\n",
    "print(response.content.decode('utf-8'))\n",
    "if(pred>0.6):\n",
    "    print(\"The model predicted that image is \",label[1])\n",
    "else:\n",
    "    print(\"The model predicted that image is \",label[0])\n",
    "\n"
   ]
  }
 ],
 "metadata": {
  "interpreter": {
   "hash": "916dbcbb3f70747c44a77c7bcd40155683ae19c65e1c03b4aa3499c5328201f1"
  },
  "kernelspec": {
   "display_name": "Python 3.8.10 64-bit",
   "language": "python",
   "name": "python3"
  },
  "language_info": {
   "codemirror_mode": {
    "name": "ipython",
    "version": 3
   },
   "file_extension": ".py",
   "mimetype": "text/x-python",
   "name": "python",
   "nbconvert_exporter": "python",
   "pygments_lexer": "ipython3",
   "version": "3.8.10"
  },
  "orig_nbformat": 4
 },
 "nbformat": 4,
 "nbformat_minor": 2
}
